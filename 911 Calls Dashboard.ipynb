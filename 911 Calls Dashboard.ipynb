{
 "cells": [
  {
   "cell_type": "code",
   "execution_count": 13,
   "metadata": {},
   "outputs": [
    {
     "name": "stdout",
     "output_type": "stream",
     "text": [
      "Overwriting 911_dashboard.py\n"
     ]
    }
   ],
   "source": [
    "%%writefile 911_dashboard.py\n",
    "\n",
    "import streamlit as st\n",
    "import pandas as pd\n",
    "import plotly.express as px\n",
    "\n",
    "df = pd.read_csv('911.csv')\n",
    "\n",
    "# Set page title\n",
    "st.title(\"911 Call Data Analysis Dashboard\")\n",
    "\n",
    "# Sidebar options\n",
    "st.sidebar.header(\"Dashboard Options\")\n",
    "\n",
    "# Filter by Department\n",
    "selected_department = st.sidebar.selectbox(\"Select Department\", ['All'] + df['Department'].unique())\n",
    "if selected_department != 'All':\n",
    "    df = df[df['Department'] == selected_department]\n",
    "\n",
    "# Filter by Reason\n",
    "selected_reason = st.sidebar.selectbox(\"Select Reason\", ['All'] + df['Reason'].unique())\n",
    "if selected_reason != 'All':\n",
    "    df = df[df['Reason'] == selected_reason]\n",
    "\n",
    "# Visualizations\n",
    "st.header(\"Incident Distribution by Department and Reason\")\n",
    "fig_reasons = px.histogram(df, x='Department', color='Reason', labels={'Department': 'Department', 'Reason': 'Reason'},\n",
    "                           title='Distribution of Incidents by Department and Reason')\n",
    "st.plotly_chart(fig_reasons)\n",
    "\n",
    "st.header(\"Incident Counts by Date\")\n",
    "# Convert the 'timeStamp' column to datetime\n",
    "df['timeStamp'] = pd.to_datetime(df['timeStamp'])\n",
    "# Extract the date from the timestamp\n",
    "df['Date'] = df['timeStamp'].dt.date\n",
    "# Group data by date and calculate incident counts\n",
    "byDate = df.groupby('Date').count()['twp'].reset_index()\n",
    "# Create an interactive line plot using Plotly Express\n",
    "fig_date = px.line(byDate, x='Date', y='twp', labels={'Date': 'Date', 'twp': 'Incident Counts'},\n",
    "                   title='Incident Counts by Date')\n",
    "st.plotly_chart(fig_date)\n",
    "\n",
    "# Additional visualizations can be added here\n",
    "\n",
    "# Show footer\n",
    "st.sidebar.text(\"Created with Streamlit by Ahmed NasrElDin\")"
   ]
  },
  {
   "cell_type": "code",
   "execution_count": 14,
   "metadata": {},
   "outputs": [
    {
     "name": "stdout",
     "output_type": "stream",
     "text": [
      "\u001b[0m\n",
      "\u001b[34m\u001b[1m  You can now view your Streamlit app in your browser.\u001b[0m\n",
      "\u001b[0m\n",
      "\u001b[34m  Local URL: \u001b[0m\u001b[1mhttp://localhost:8501\u001b[0m\n",
      "\u001b[34m  Network URL: \u001b[0m\u001b[1mhttp://192.168.1.3:8501\u001b[0m\n",
      "\u001b[0m\n",
      "2023-08-30 11:07:45.727 Uncaught app exception\n",
      "Traceback (most recent call last):\n",
      "  File \"/Users/anasr/opt/anaconda3/envs/DS/lib/python3.11/site-packages/pandas/core/indexes/base.py\", line 3802, in get_loc\n",
      "    return self._engine.get_loc(casted_key)\n",
      "           ^^^^^^^^^^^^^^^^^^^^^^^^^^^^^^^^\n",
      "  File \"pandas/_libs/index.pyx\", line 138, in pandas._libs.index.IndexEngine.get_loc\n",
      "  File \"pandas/_libs/index.pyx\", line 165, in pandas._libs.index.IndexEngine.get_loc\n",
      "  File \"pandas/_libs/hashtable_class_helper.pxi\", line 5745, in pandas._libs.hashtable.PyObjectHashTable.get_item\n",
      "  File \"pandas/_libs/hashtable_class_helper.pxi\", line 5753, in pandas._libs.hashtable.PyObjectHashTable.get_item\n",
      "KeyError: 'Department'\n",
      "\n",
      "The above exception was the direct cause of the following exception:\n",
      "\n",
      "Traceback (most recent call last):\n",
      "  File \"/Users/anasr/opt/anaconda3/envs/DS/lib/python3.11/site-packages/streamlit/runtime/scriptrunner/script_runner.py\", line 552, in _run_script\n",
      "    exec(code, module.__dict__)\n",
      "  File \"/Users/anasr/Documents/My GitHub Repositories/911Calls/911_dashboard.py\", line 15, in <module>\n",
      "    selected_department = st.sidebar.selectbox(\"Select Department\", ['All'] + df['Department'].unique())\n",
      "                                                                              ~~^^^^^^^^^^^^^^\n",
      "  File \"/Users/anasr/opt/anaconda3/envs/DS/lib/python3.11/site-packages/pandas/core/frame.py\", line 3807, in __getitem__\n",
      "    indexer = self.columns.get_loc(key)\n",
      "              ^^^^^^^^^^^^^^^^^^^^^^^^^\n",
      "  File \"/Users/anasr/opt/anaconda3/envs/DS/lib/python3.11/site-packages/pandas/core/indexes/base.py\", line 3804, in get_loc\n",
      "    raise KeyError(key) from err\n",
      "KeyError: 'Department'\n",
      "^C\n",
      "\u001b[34m  Stopping...\u001b[0m\n"
     ]
    }
   ],
   "source": [
    "! streamlit run 911_dashboard.py"
   ]
  },
  {
   "cell_type": "code",
   "execution_count": null,
   "metadata": {},
   "outputs": [],
   "source": []
  },
  {
   "cell_type": "code",
   "execution_count": null,
   "metadata": {},
   "outputs": [],
   "source": []
  },
  {
   "cell_type": "code",
   "execution_count": null,
   "metadata": {},
   "outputs": [],
   "source": []
  },
  {
   "cell_type": "code",
   "execution_count": null,
   "metadata": {},
   "outputs": [],
   "source": []
  },
  {
   "cell_type": "code",
   "execution_count": null,
   "metadata": {},
   "outputs": [],
   "source": []
  },
  {
   "cell_type": "code",
   "execution_count": null,
   "metadata": {},
   "outputs": [],
   "source": []
  },
  {
   "cell_type": "code",
   "execution_count": null,
   "metadata": {},
   "outputs": [],
   "source": []
  },
  {
   "cell_type": "code",
   "execution_count": null,
   "metadata": {},
   "outputs": [],
   "source": []
  },
  {
   "cell_type": "code",
   "execution_count": null,
   "metadata": {},
   "outputs": [],
   "source": []
  },
  {
   "cell_type": "code",
   "execution_count": null,
   "metadata": {},
   "outputs": [],
   "source": []
  },
  {
   "cell_type": "code",
   "execution_count": null,
   "metadata": {},
   "outputs": [],
   "source": []
  },
  {
   "cell_type": "code",
   "execution_count": null,
   "metadata": {},
   "outputs": [],
   "source": []
  },
  {
   "cell_type": "code",
   "execution_count": null,
   "metadata": {},
   "outputs": [],
   "source": []
  },
  {
   "cell_type": "code",
   "execution_count": null,
   "metadata": {},
   "outputs": [],
   "source": []
  },
  {
   "cell_type": "code",
   "execution_count": null,
   "metadata": {},
   "outputs": [],
   "source": []
  },
  {
   "cell_type": "code",
   "execution_count": null,
   "metadata": {},
   "outputs": [],
   "source": []
  },
  {
   "cell_type": "code",
   "execution_count": null,
   "metadata": {},
   "outputs": [],
   "source": []
  },
  {
   "cell_type": "code",
   "execution_count": null,
   "metadata": {},
   "outputs": [],
   "source": []
  }
 ],
 "metadata": {
  "kernelspec": {
   "display_name": "DS",
   "language": "python",
   "name": "python3"
  },
  "language_info": {
   "codemirror_mode": {
    "name": "ipython",
    "version": 3
   },
   "file_extension": ".py",
   "mimetype": "text/x-python",
   "name": "python",
   "nbconvert_exporter": "python",
   "pygments_lexer": "ipython3",
   "version": "3.11.3"
  },
  "vscode": {
   "interpreter": {
    "hash": "2f35561962b3536e798d9d7f8aed8a6570157df2537699a33c475af9309799d3"
   }
  }
 },
 "nbformat": 4,
 "nbformat_minor": 4
}
