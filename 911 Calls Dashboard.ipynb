{
 "cells": [
  {
   "cell_type": "code",
   "execution_count": 5,
   "metadata": {},
   "outputs": [],
   "source": [
    "import streamlit as st\n",
    "import pandas as pd\n",
    "import plotly.express as px\n",
    "\n",
    "df = pd.read_csv('911.csv')\n",
    "df.drop_duplicates(inplace = True , ignore_index=True)\n",
    "df.reset_index(drop = True, inplace = True)\n",
    "df = df.dropna(subset=['twp'])\n",
    "\n",
    "# Get unique township values from the 'twp' column\n",
    "unique_townships = df['twp'].unique()\n",
    "# Create a dictionary mapping township to zip code\n",
    "township_to_zip_mapping = {twp: None for twp in unique_townships}\n",
    "# Fill the dictionary with zip codes\n",
    "for twp in unique_townships:\n",
    "    zip_code = None  # Initialize zip_code as None\n",
    "    rows_with_twp = df[df['twp'] == twp]  # Filter rows with the same twp\n",
    "    for index, row in rows_with_twp.iterrows():\n",
    "        if pd.notna(row['zip']):  # Check if zip is not NaN\n",
    "            zip_code = row['zip']\n",
    "            break  # Stop searching once a non-null zip is found\n",
    "    township_to_zip_mapping[twp] = zip_code\n",
    "# Fill missing zip codes based on township\n",
    "df['zip'] = df.apply(lambda row: township_to_zip_mapping.get(row['twp'], row['zip']), axis=1)\n",
    "\n",
    "df = df.drop(columns=['e'])\n",
    "df['zip'] = df['zip'].astype(int).astype(str)\n",
    "\n",
    "df['Department'] = df['title'].apply(lambda title: title.split(':')[0])\n",
    "df['Reason'] = df['title'].apply(lambda title: title.split(':')[1])\n",
    "df['timeStamp'] = pd.to_datetime(df['timeStamp'])\n",
    "df['Date'] = df['timeStamp'].dt.date\n",
    "df['Hour'] = df['timeStamp'].apply(lambda time: time.hour)\n",
    "df['Day'] = df['timeStamp'].dt.day\n",
    "df['nDay_of_Week'] = df['timeStamp'].apply(lambda time: time.dayofweek)\n",
    "dmap = {0:'Mon',1:'Tue',2:'Wed',3:'Thu',4:'Fri',5:'Sat',6:'Sun'}\n",
    "df['Day_of_Week'] = df['nDay_of_Week'].map(dmap)\n",
    "df['Month'] = df['timeStamp'].apply(lambda time: time.month)\n",
    "df['Year'] = df['timeStamp'].apply(lambda time: time.year)\n",
    "\n",
    "df.to_csv('M911.csv')"
   ]
  },
  {
   "cell_type": "code",
   "execution_count": null,
   "metadata": {},
   "outputs": [],
   "source": [
    "import streamlit as st\n",
    "import pandas as pd\n",
    "import plotly.express as px\n",
    "\n",
    "df = pd.read_csv('M911.csv')\n",
    "\n",
    "# Set page title\n",
    "st.title(\"911 Call Data Analysis Dashboard\")\n",
    "\n",
    "# Sidebar options\n",
    "st.sidebar.header(\"Dashboard Options\")\n",
    "\n",
    "# Filter by Department\n",
    "selected_department = st.sidebar.selectbox(\"Select Department\", ['All'] + df['Department'].unique())\n",
    "if selected_department != 'All':\n",
    "    df = df[df['Department'] == selected_department]\n",
    "\n",
    "# Filter by Reason\n",
    "selected_reason = st.sidebar.selectbox(\"Select Reason\", ['All'] + df['Reason'].unique())\n",
    "if selected_reason != 'All':\n",
    "    df = df[df['Reason'] == selected_reason]\n",
    "\n",
    "# Visualizations\n",
    "st.header(\"Incident Distribution by Department and Reason\")\n",
    "fig_reasons = px.histogram(df, x='Department', color='Reason', labels={'Department': 'Department', 'Reason': 'Reason'},\n",
    "                           title='Distribution of Incidents by Department and Reason')\n",
    "st.plotly_chart(fig_reasons)\n",
    "\n",
    "st.header(\"Incident Counts by Date\")\n",
    "# Convert the 'timeStamp' column to datetime\n",
    "df['timeStamp'] = pd.to_datetime(df['timeStamp'])\n",
    "# Extract the date from the timestamp\n",
    "df['Date'] = df['timeStamp'].dt.date\n",
    "# Group data by date and calculate incident counts\n",
    "byDate = df.groupby('Date').count()['twp'].reset_index()\n",
    "# Create an interactive line plot using Plotly Express\n",
    "fig_date = px.line(byDate, x='Date', y='twp', labels={'Date': 'Date', 'twp': 'Incident Counts'},\n",
    "                   title='Incident Counts by Date')\n",
    "st.plotly_chart(fig_date)\n",
    "\n",
    "# Additional visualizations can be added here\n",
    "\n",
    "# Show footer\n",
    "st.sidebar.text(\"Created with Streamlit by Ahmed NasrElDin\")"
   ]
  },
  {
   "cell_type": "code",
   "execution_count": 3,
   "metadata": {},
   "outputs": [
    {
     "name": "stdout",
     "output_type": "stream",
     "text": [
      "Overwriting 911_dashboard.py\n"
     ]
    }
   ],
   "source": [
    "%%writefile 911_dashboard.py\n"
   ]
  },
  {
   "cell_type": "code",
   "execution_count": 4,
   "metadata": {},
   "outputs": [
    {
     "name": "stdout",
     "output_type": "stream",
     "text": [
      "\u001b[0m\n",
      "\u001b[34m\u001b[1m  You can now view your Streamlit app in your browser.\u001b[0m\n",
      "\u001b[0m\n",
      "\u001b[34m  Local URL: \u001b[0m\u001b[1mhttp://localhost:8501\u001b[0m\n",
      "\u001b[34m  Network URL: \u001b[0m\u001b[1mhttp://172.20.10.5:8501\u001b[0m\n",
      "\u001b[0m\n",
      "^C\n",
      "\u001b[34m  Stopping...\u001b[0m\n"
     ]
    }
   ],
   "source": [
    "! streamlit run 911_dashboard.py"
   ]
  },
  {
   "cell_type": "code",
   "execution_count": null,
   "metadata": {},
   "outputs": [],
   "source": []
  },
  {
   "cell_type": "code",
   "execution_count": null,
   "metadata": {},
   "outputs": [],
   "source": []
  },
  {
   "cell_type": "code",
   "execution_count": null,
   "metadata": {},
   "outputs": [],
   "source": []
  },
  {
   "cell_type": "code",
   "execution_count": null,
   "metadata": {},
   "outputs": [],
   "source": []
  },
  {
   "cell_type": "code",
   "execution_count": null,
   "metadata": {},
   "outputs": [],
   "source": []
  },
  {
   "cell_type": "code",
   "execution_count": null,
   "metadata": {},
   "outputs": [],
   "source": []
  },
  {
   "cell_type": "code",
   "execution_count": null,
   "metadata": {},
   "outputs": [],
   "source": []
  },
  {
   "cell_type": "code",
   "execution_count": null,
   "metadata": {},
   "outputs": [],
   "source": []
  },
  {
   "cell_type": "code",
   "execution_count": null,
   "metadata": {},
   "outputs": [],
   "source": []
  },
  {
   "cell_type": "code",
   "execution_count": null,
   "metadata": {},
   "outputs": [],
   "source": []
  },
  {
   "cell_type": "code",
   "execution_count": null,
   "metadata": {},
   "outputs": [],
   "source": []
  },
  {
   "cell_type": "code",
   "execution_count": null,
   "metadata": {},
   "outputs": [],
   "source": []
  },
  {
   "cell_type": "code",
   "execution_count": null,
   "metadata": {},
   "outputs": [],
   "source": []
  },
  {
   "cell_type": "code",
   "execution_count": null,
   "metadata": {},
   "outputs": [],
   "source": []
  },
  {
   "cell_type": "code",
   "execution_count": null,
   "metadata": {},
   "outputs": [],
   "source": []
  },
  {
   "cell_type": "code",
   "execution_count": null,
   "metadata": {},
   "outputs": [],
   "source": []
  },
  {
   "cell_type": "code",
   "execution_count": null,
   "metadata": {},
   "outputs": [],
   "source": []
  },
  {
   "cell_type": "code",
   "execution_count": null,
   "metadata": {},
   "outputs": [],
   "source": []
  }
 ],
 "metadata": {
  "kernelspec": {
   "display_name": "DS",
   "language": "python",
   "name": "python3"
  },
  "language_info": {
   "codemirror_mode": {
    "name": "ipython",
    "version": 3
   },
   "file_extension": ".py",
   "mimetype": "text/x-python",
   "name": "python",
   "nbconvert_exporter": "python",
   "pygments_lexer": "ipython3",
   "version": "3.11.3"
  },
  "vscode": {
   "interpreter": {
    "hash": "2f35561962b3536e798d9d7f8aed8a6570157df2537699a33c475af9309799d3"
   }
  }
 },
 "nbformat": 4,
 "nbformat_minor": 4
}
