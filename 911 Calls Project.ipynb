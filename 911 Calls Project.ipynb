{
 "cells": [
  {
   "cell_type": "markdown",
   "metadata": {},
   "source": [
    "# 911 Calls Project\n",
    "\n",
    "## Overview\n",
    "\n",
    "### Understanding the Background\n",
    "\n",
    "* Montgomery County\n",
    "\n",
    "Montgomery County, locally also referred to as Montco, is a county located in the Commonwealth of Pennsylvania. As of the 2010 census, the population was 799,874, making it the third-most populous county in Pennsylvania, after Philadelphia and Allegheny Counties. The county seat is Norristown. Montgomery County is very diverse, ranging from farms and open land in Upper Hanover to densely populated rowhouse streets in Cheltenham.\n",
    "\n",
    "* 911 Calls\n",
    "\n",
    "Created by Congress in 2004 as the 911 Implementation and Coordination Office (ICO), the National 911 Program is housed within the National Highway Traffic Safety Administration at the U.S. Department of Transportation and is a joint program with the National Telecommunication and Information Administration in the Department of Commerce.\n",
    "\n",
    "### Goal:\n",
    "\n",
    "* Locations from which 911 calls are most frequent\n",
    "* Time daily, month, weekly patterns of 911 calls\n",
    "* Major Causes of 911 calls\n",
    "\n",
    "\n",
    "**This analysis will help to deploy more agents in specific location and save/help people at right time**\n",
    "\n",
    "---\n",
    "----\n",
    "\n",
    "### The Data\n",
    "\n",
    "`Acknowledgements`: Data provided by  <a href='http://www.pieriandata.com'>montcoalert.org</a>\n",
    "\n",
    "we will be analyzing some 911 call data from [Kaggle](https://www.kaggle.com/mchirico/montcoalert). The data contains the following fields:\n",
    "\n",
    "Column | Definition\n",
    "--- | -----------\n",
    "lat | Latitude\n",
    "lng | Longitude\n",
    "desc | Description of the Emergency Call\n",
    "zip | Zipcode\n",
    "title | Title of Emergency\n",
    "timeStamp | YYYY-MM-DD HH:MM:SS\n",
    "twp | Township\n",
    "addr | Address\n",
    "e | Dummy variable (always 1)\n",
    "\n"
   ]
  },
  {
   "cell_type": "markdown",
   "metadata": {},
   "source": [
    "### Data Import and first Inspection\n",
    "\n",
    "##### 911.csv"
   ]
  },
  {
   "cell_type": "code",
   "execution_count": 1,
   "metadata": {},
   "outputs": [],
   "source": [
    "import pandas as pd\n",
    "import numpy as np\n",
    "import statsmodels.api as sm\n",
    "import matplotlib.pyplot as plt\n",
    "import seaborn as sns\n",
    "from datetime import datetime\n",
    "import os\n",
    "sns.set()"
   ]
  },
  {
   "cell_type": "markdown",
   "metadata": {},
   "source": [
    "**Read in the csv file as a dataframe called df**"
   ]
  },
  {
   "cell_type": "code",
   "execution_count": 2,
   "metadata": {},
   "outputs": [],
   "source": [
    "df = pd.read_csv('911.csv')"
   ]
  },
  {
   "cell_type": "markdown",
   "metadata": {},
   "source": [
    "**Check the head of df**"
   ]
  },
  {
   "cell_type": "code",
   "execution_count": 3,
   "metadata": {},
   "outputs": [
    {
     "data": {
      "text/html": [
       "<div>\n",
       "<style scoped>\n",
       "    .dataframe tbody tr th:only-of-type {\n",
       "        vertical-align: middle;\n",
       "    }\n",
       "\n",
       "    .dataframe tbody tr th {\n",
       "        vertical-align: top;\n",
       "    }\n",
       "\n",
       "    .dataframe thead th {\n",
       "        text-align: right;\n",
       "    }\n",
       "</style>\n",
       "<table border=\"1\" class=\"dataframe\">\n",
       "  <thead>\n",
       "    <tr style=\"text-align: right;\">\n",
       "      <th></th>\n",
       "      <th>lat</th>\n",
       "      <th>lng</th>\n",
       "      <th>desc</th>\n",
       "      <th>zip</th>\n",
       "      <th>title</th>\n",
       "      <th>timeStamp</th>\n",
       "      <th>twp</th>\n",
       "      <th>addr</th>\n",
       "      <th>e</th>\n",
       "    </tr>\n",
       "  </thead>\n",
       "  <tbody>\n",
       "    <tr>\n",
       "      <th>0</th>\n",
       "      <td>40.297876</td>\n",
       "      <td>-75.581294</td>\n",
       "      <td>REINDEER CT &amp; DEAD END;  NEW HANOVER; Station ...</td>\n",
       "      <td>19525.0</td>\n",
       "      <td>EMS: BACK PAINS/INJURY</td>\n",
       "      <td>2015-12-10 17:10:52</td>\n",
       "      <td>NEW HANOVER</td>\n",
       "      <td>REINDEER CT &amp; DEAD END</td>\n",
       "      <td>1</td>\n",
       "    </tr>\n",
       "    <tr>\n",
       "      <th>1</th>\n",
       "      <td>40.258061</td>\n",
       "      <td>-75.264680</td>\n",
       "      <td>BRIAR PATH &amp; WHITEMARSH LN;  HATFIELD TOWNSHIP...</td>\n",
       "      <td>19446.0</td>\n",
       "      <td>EMS: DIABETIC EMERGENCY</td>\n",
       "      <td>2015-12-10 17:29:21</td>\n",
       "      <td>HATFIELD TOWNSHIP</td>\n",
       "      <td>BRIAR PATH &amp; WHITEMARSH LN</td>\n",
       "      <td>1</td>\n",
       "    </tr>\n",
       "    <tr>\n",
       "      <th>2</th>\n",
       "      <td>40.121182</td>\n",
       "      <td>-75.351975</td>\n",
       "      <td>HAWS AVE; NORRISTOWN; 2015-12-10 @ 14:39:21-St...</td>\n",
       "      <td>19401.0</td>\n",
       "      <td>Fire: GAS-ODOR/LEAK</td>\n",
       "      <td>2015-12-10 14:39:21</td>\n",
       "      <td>NORRISTOWN</td>\n",
       "      <td>HAWS AVE</td>\n",
       "      <td>1</td>\n",
       "    </tr>\n",
       "    <tr>\n",
       "      <th>3</th>\n",
       "      <td>40.116153</td>\n",
       "      <td>-75.343513</td>\n",
       "      <td>AIRY ST &amp; SWEDE ST;  NORRISTOWN; Station 308A;...</td>\n",
       "      <td>19401.0</td>\n",
       "      <td>EMS: CARDIAC EMERGENCY</td>\n",
       "      <td>2015-12-10 16:47:36</td>\n",
       "      <td>NORRISTOWN</td>\n",
       "      <td>AIRY ST &amp; SWEDE ST</td>\n",
       "      <td>1</td>\n",
       "    </tr>\n",
       "    <tr>\n",
       "      <th>4</th>\n",
       "      <td>40.251492</td>\n",
       "      <td>-75.603350</td>\n",
       "      <td>CHERRYWOOD CT &amp; DEAD END;  LOWER POTTSGROVE; S...</td>\n",
       "      <td>NaN</td>\n",
       "      <td>EMS: DIZZINESS</td>\n",
       "      <td>2015-12-10 16:56:52</td>\n",
       "      <td>LOWER POTTSGROVE</td>\n",
       "      <td>CHERRYWOOD CT &amp; DEAD END</td>\n",
       "      <td>1</td>\n",
       "    </tr>\n",
       "  </tbody>\n",
       "</table>\n",
       "</div>"
      ],
      "text/plain": [
       "         lat        lng                                               desc  \\\n",
       "0  40.297876 -75.581294  REINDEER CT & DEAD END;  NEW HANOVER; Station ...   \n",
       "1  40.258061 -75.264680  BRIAR PATH & WHITEMARSH LN;  HATFIELD TOWNSHIP...   \n",
       "2  40.121182 -75.351975  HAWS AVE; NORRISTOWN; 2015-12-10 @ 14:39:21-St...   \n",
       "3  40.116153 -75.343513  AIRY ST & SWEDE ST;  NORRISTOWN; Station 308A;...   \n",
       "4  40.251492 -75.603350  CHERRYWOOD CT & DEAD END;  LOWER POTTSGROVE; S...   \n",
       "\n",
       "       zip                    title            timeStamp                twp  \\\n",
       "0  19525.0   EMS: BACK PAINS/INJURY  2015-12-10 17:10:52        NEW HANOVER   \n",
       "1  19446.0  EMS: DIABETIC EMERGENCY  2015-12-10 17:29:21  HATFIELD TOWNSHIP   \n",
       "2  19401.0      Fire: GAS-ODOR/LEAK  2015-12-10 14:39:21         NORRISTOWN   \n",
       "3  19401.0   EMS: CARDIAC EMERGENCY  2015-12-10 16:47:36         NORRISTOWN   \n",
       "4      NaN           EMS: DIZZINESS  2015-12-10 16:56:52   LOWER POTTSGROVE   \n",
       "\n",
       "                         addr  e  \n",
       "0      REINDEER CT & DEAD END  1  \n",
       "1  BRIAR PATH & WHITEMARSH LN  1  \n",
       "2                    HAWS AVE  1  \n",
       "3          AIRY ST & SWEDE ST  1  \n",
       "4    CHERRYWOOD CT & DEAD END  1  "
      ]
     },
     "execution_count": 3,
     "metadata": {},
     "output_type": "execute_result"
    }
   ],
   "source": [
    "df.head()"
   ]
  },
  {
   "cell_type": "markdown",
   "metadata": {},
   "source": [
    "**Check the info() of the df**"
   ]
  },
  {
   "cell_type": "code",
   "execution_count": 4,
   "metadata": {},
   "outputs": [
    {
     "name": "stdout",
     "output_type": "stream",
     "text": [
      "<class 'pandas.core.frame.DataFrame'>\n",
      "RangeIndex: 663522 entries, 0 to 663521\n",
      "Data columns (total 9 columns):\n",
      " #   Column     Non-Null Count   Dtype  \n",
      "---  ------     --------------   -----  \n",
      " 0   lat        663522 non-null  float64\n",
      " 1   lng        663522 non-null  float64\n",
      " 2   desc       663522 non-null  object \n",
      " 3   zip        583323 non-null  float64\n",
      " 4   title      663522 non-null  object \n",
      " 5   timeStamp  663522 non-null  object \n",
      " 6   twp        663229 non-null  object \n",
      " 7   addr       663522 non-null  object \n",
      " 8   e          663522 non-null  int64  \n",
      "dtypes: float64(3), int64(1), object(5)\n",
      "memory usage: 45.6+ MB\n"
     ]
    }
   ],
   "source": [
    "df.info()"
   ]
  },
  {
   "cell_type": "markdown",
   "metadata": {},
   "source": [
    "**Check the null values**"
   ]
  },
  {
   "cell_type": "code",
   "execution_count": 5,
   "metadata": {},
   "outputs": [
    {
     "data": {
      "text/plain": [
       "lat              0\n",
       "lng              0\n",
       "desc             0\n",
       "zip          80199\n",
       "title            0\n",
       "timeStamp        0\n",
       "twp            293\n",
       "addr             0\n",
       "e                0\n",
       "dtype: int64"
      ]
     },
     "execution_count": 5,
     "metadata": {},
     "output_type": "execute_result"
    }
   ],
   "source": [
    "df.isnull().sum()"
   ]
  },
  {
   "cell_type": "markdown",
   "metadata": {},
   "source": [
    "### Handling duplicated and missing values"
   ]
  },
  {
   "cell_type": "code",
   "execution_count": 6,
   "metadata": {},
   "outputs": [
    {
     "data": {
      "text/plain": [
       "240"
      ]
     },
     "metadata": {},
     "output_type": "display_data"
    }
   ],
   "source": [
    "display(df.duplicated().sum())\n",
    "df.drop_duplicates(inplace = True , ignore_index=True)\n",
    "df.reset_index(drop = True, inplace = True)"
   ]
  },
  {
   "cell_type": "code",
   "execution_count": 7,
   "metadata": {},
   "outputs": [
    {
     "data": {
      "text/plain": [
       "lat              0\n",
       "lng              0\n",
       "desc             0\n",
       "zip          80165\n",
       "title            0\n",
       "timeStamp        0\n",
       "twp            293\n",
       "addr             0\n",
       "e                0\n",
       "dtype: int64"
      ]
     },
     "execution_count": 7,
     "metadata": {},
     "output_type": "execute_result"
    }
   ],
   "source": [
    "df.isnull().sum()"
   ]
  },
  {
   "cell_type": "code",
   "execution_count": 8,
   "metadata": {},
   "outputs": [
    {
     "data": {
      "text/plain": [
       "lat             0.0%\n",
       "lng             0.0%\n",
       "desc            0.0%\n",
       "zip          12.086%\n",
       "title           0.0%\n",
       "timeStamp       0.0%\n",
       "twp           0.044%\n",
       "addr            0.0%\n",
       "e               0.0%\n",
       "dtype: object"
      ]
     },
     "execution_count": 8,
     "metadata": {},
     "output_type": "execute_result"
    }
   ],
   "source": [
    "missing_percentage = ((df.isnull().sum() / len(df)) * 100).round(3).astype(str)+'%'\n",
    "missing_percentage"
   ]
  },
  {
   "cell_type": "markdown",
   "metadata": {},
   "source": [
    "**Remove rows with missing values in the `twp` column**"
   ]
  },
  {
   "cell_type": "code",
   "execution_count": 9,
   "metadata": {},
   "outputs": [],
   "source": [
    "df = df.dropna(subset=['twp'])"
   ]
  },
  {
   "cell_type": "code",
   "execution_count": 10,
   "metadata": {},
   "outputs": [
    {
     "data": {
      "text/plain": [
       "lat             0.0%\n",
       "lng             0.0%\n",
       "desc            0.0%\n",
       "zip          12.066%\n",
       "title           0.0%\n",
       "timeStamp       0.0%\n",
       "twp             0.0%\n",
       "addr            0.0%\n",
       "e               0.0%\n",
       "dtype: object"
      ]
     },
     "execution_count": 10,
     "metadata": {},
     "output_type": "execute_result"
    }
   ],
   "source": [
    "((df.isnull().sum() / len(df)) * 100).round(3).astype(str)+'%'"
   ]
  },
  {
   "cell_type": "markdown",
   "metadata": {},
   "source": [
    "**I don't think we should drop the rows with null values in the `zip` column**\n",
    "\n",
    "* Lets try getting the unique `twp` and its corresponding `zip` then try to use it filling the null zip code if the twp matches"
   ]
  },
  {
   "cell_type": "code",
   "execution_count": 11,
   "metadata": {},
   "outputs": [],
   "source": [
    "# Get unique township values from the 'twp' column\n",
    "unique_townships = df['twp'].unique()\n",
    "\n",
    "# Create a dictionary mapping township to zip code\n",
    "township_to_zip_mapping = {twp: None for twp in unique_townships}\n",
    "\n",
    "# Fill the dictionary with zip codes\n",
    "for twp in unique_townships:\n",
    "    zip_code = None  # Initialize zip_code as None\n",
    "    rows_with_twp = df[df['twp'] == twp]  # Filter rows with the same twp\n",
    "\n",
    "    for index, row in rows_with_twp.iterrows():\n",
    "        if pd.notna(row['zip']):  # Check if zip is not NaN\n",
    "            zip_code = row['zip']\n",
    "            break  # Stop searching once a non-null zip is found\n",
    "\n",
    "    township_to_zip_mapping[twp] = zip_code"
   ]
  },
  {
   "cell_type": "code",
   "execution_count": 12,
   "metadata": {},
   "outputs": [],
   "source": [
    "# Fill missing zip codes based on township\n",
    "df['zip'] = df.apply(lambda row: township_to_zip_mapping.get(row['twp'], row['zip']), axis=1)"
   ]
  },
  {
   "cell_type": "code",
   "execution_count": 13,
   "metadata": {},
   "outputs": [
    {
     "data": {
      "text/plain": [
       "lat          0.0%\n",
       "lng          0.0%\n",
       "desc         0.0%\n",
       "zip          0.0%\n",
       "title        0.0%\n",
       "timeStamp    0.0%\n",
       "twp          0.0%\n",
       "addr         0.0%\n",
       "e            0.0%\n",
       "dtype: object"
      ]
     },
     "execution_count": 13,
     "metadata": {},
     "output_type": "execute_result"
    }
   ],
   "source": [
    "((df.isnull().sum() / len(df)) * 100).round(3).astype(str)+'%'"
   ]
  },
  {
   "cell_type": "markdown",
   "metadata": {},
   "source": [
    "* Replacing null values with a placeholder"
   ]
  },
  {
   "cell_type": "code",
   "execution_count": 14,
   "metadata": {},
   "outputs": [],
   "source": [
    "# df['zip'] = df['zip'].fillna(-1)"
   ]
  },
  {
   "cell_type": "markdown",
   "metadata": {},
   "source": [
    "**We can drop the `e` column and covert the `zip` column from float to integers and it will make more sense**"
   ]
  },
  {
   "cell_type": "code",
   "execution_count": 15,
   "metadata": {},
   "outputs": [],
   "source": [
    "df = df.drop(columns=['e'])\n",
    "df['zip'] = df['zip'].astype(int).astype(str)"
   ]
  },
  {
   "cell_type": "markdown",
   "metadata": {},
   "source": [
    "**These timestamps are still strings. We need to convert the column from strings to DateTime objects.**"
   ]
  },
  {
   "cell_type": "code",
   "execution_count": 16,
   "metadata": {},
   "outputs": [
    {
     "data": {
      "text/plain": [
       "str"
      ]
     },
     "metadata": {},
     "output_type": "display_data"
    },
    {
     "data": {
      "text/plain": [
       "pandas._libs.tslibs.timestamps.Timestamp"
      ]
     },
     "metadata": {},
     "output_type": "display_data"
    }
   ],
   "source": [
    "display(type(df['timeStamp'].iloc[0]))\n",
    "df['timeStamp'] = pd.to_datetime(df['timeStamp'])\n",
    "display(type(df['timeStamp'].iloc[0]))"
   ]
  },
  {
   "cell_type": "markdown",
   "metadata": {},
   "source": [
    "### Data preprocessing and feature engineering"
   ]
  },
  {
   "cell_type": "code",
   "execution_count": 17,
   "metadata": {},
   "outputs": [
    {
     "data": {
      "text/plain": [
       "148"
      ]
     },
     "execution_count": 17,
     "metadata": {},
     "output_type": "execute_result"
    }
   ],
   "source": [
    "df['title'].nunique()"
   ]
  },
  {
   "cell_type": "markdown",
   "metadata": {},
   "source": [
    "**In the titles column there are \"Reasons/Departments\"**"
   ]
  },
  {
   "cell_type": "code",
   "execution_count": 18,
   "metadata": {},
   "outputs": [
    {
     "data": {
      "text/plain": [
       "0              EMS: BACK PAINS/INJURY\n",
       "1             EMS: DIABETIC EMERGENCY\n",
       "2                 Fire: GAS-ODOR/LEAK\n",
       "3              EMS: CARDIAC EMERGENCY\n",
       "4                      EMS: DIZZINESS\n",
       "                     ...             \n",
       "663277    Traffic: VEHICLE ACCIDENT -\n",
       "663278          EMS: GENERAL WEAKNESS\n",
       "663279          EMS: VEHICLE ACCIDENT\n",
       "663280            Fire: BUILDING FIRE\n",
       "663281    Traffic: VEHICLE ACCIDENT -\n",
       "Name: title, Length: 662989, dtype: object"
      ]
     },
     "execution_count": 18,
     "metadata": {},
     "output_type": "execute_result"
    }
   ],
   "source": [
    "df['title']"
   ]
  },
  {
   "cell_type": "code",
   "execution_count": 19,
   "metadata": {},
   "outputs": [],
   "source": [
    "df['Department'] = df['title'].apply(lambda title: title.split(':')[0])\n",
    "df['Reason'] = df['title'].apply(lambda title: title.split(':')[1])"
   ]
  },
  {
   "cell_type": "markdown",
   "metadata": {},
   "source": [
    "**We can now grab specific attributes from a Datetime object by calling them.**"
   ]
  },
  {
   "cell_type": "code",
   "execution_count": 20,
   "metadata": {},
   "outputs": [],
   "source": [
    "df['Hour'] = df['timeStamp'].apply(lambda time: time.hour)\n",
    "df['Day'] = df['timeStamp'].dt.day\n",
    "df['nDay_of_Week'] = df['timeStamp'].apply(lambda time: time.dayofweek)\n",
    "dmap = {0:'Mon',1:'Tue',2:'Wed',3:'Thu',4:'Fri',5:'Sat',6:'Sun'}\n",
    "df['Day_of_Week'] = df['nDay_of_Week'].map(dmap)\n",
    "df['Month'] = df['timeStamp'].apply(lambda time: time.month)\n",
    "df['Year'] = df['timeStamp'].apply(lambda time: time.year)"
   ]
  },
  {
   "cell_type": "code",
   "execution_count": null,
   "metadata": {},
   "outputs": [],
   "source": [
    "# raise Exception(\"Execution stopped by user\")\n",
    "# pd.DataFrame(df.iloc[0]).T  # Transpose to convert Series to DataFrame"
   ]
  },
  {
   "cell_type": "code",
   "execution_count": 31,
   "metadata": {},
   "outputs": [
    {
     "data": {
      "text/html": [
       "<div>\n",
       "<style scoped>\n",
       "    .dataframe tbody tr th:only-of-type {\n",
       "        vertical-align: middle;\n",
       "    }\n",
       "\n",
       "    .dataframe tbody tr th {\n",
       "        vertical-align: top;\n",
       "    }\n",
       "\n",
       "    .dataframe thead th {\n",
       "        text-align: right;\n",
       "    }\n",
       "</style>\n",
       "<table border=\"1\" class=\"dataframe\">\n",
       "  <thead>\n",
       "    <tr style=\"text-align: right;\">\n",
       "      <th></th>\n",
       "      <th>lat</th>\n",
       "      <th>lng</th>\n",
       "      <th>desc</th>\n",
       "      <th>zip</th>\n",
       "      <th>title</th>\n",
       "      <th>timeStamp</th>\n",
       "      <th>twp</th>\n",
       "      <th>addr</th>\n",
       "      <th>Department</th>\n",
       "      <th>Reason</th>\n",
       "      <th>Hour</th>\n",
       "      <th>Day</th>\n",
       "      <th>nDay_of_Week</th>\n",
       "      <th>Day_of_Week</th>\n",
       "      <th>Month</th>\n",
       "      <th>Year</th>\n",
       "    </tr>\n",
       "  </thead>\n",
       "  <tbody>\n",
       "    <tr>\n",
       "      <th>0</th>\n",
       "      <td>40.297876</td>\n",
       "      <td>-75.581294</td>\n",
       "      <td>REINDEER CT &amp; DEAD END;  NEW HANOVER; Station ...</td>\n",
       "      <td>19525</td>\n",
       "      <td>EMS: BACK PAINS/INJURY</td>\n",
       "      <td>2015-12-10 17:10:52</td>\n",
       "      <td>NEW HANOVER</td>\n",
       "      <td>REINDEER CT &amp; DEAD END</td>\n",
       "      <td>EMS</td>\n",
       "      <td>BACK PAINS/INJURY</td>\n",
       "      <td>17</td>\n",
       "      <td>10</td>\n",
       "      <td>3</td>\n",
       "      <td>Thu</td>\n",
       "      <td>12</td>\n",
       "      <td>2015</td>\n",
       "    </tr>\n",
       "    <tr>\n",
       "      <th>1</th>\n",
       "      <td>40.258061</td>\n",
       "      <td>-75.264680</td>\n",
       "      <td>BRIAR PATH &amp; WHITEMARSH LN;  HATFIELD TOWNSHIP...</td>\n",
       "      <td>19446</td>\n",
       "      <td>EMS: DIABETIC EMERGENCY</td>\n",
       "      <td>2015-12-10 17:29:21</td>\n",
       "      <td>HATFIELD TOWNSHIP</td>\n",
       "      <td>BRIAR PATH &amp; WHITEMARSH LN</td>\n",
       "      <td>EMS</td>\n",
       "      <td>DIABETIC EMERGENCY</td>\n",
       "      <td>17</td>\n",
       "      <td>10</td>\n",
       "      <td>3</td>\n",
       "      <td>Thu</td>\n",
       "      <td>12</td>\n",
       "      <td>2015</td>\n",
       "    </tr>\n",
       "    <tr>\n",
       "      <th>2</th>\n",
       "      <td>40.121182</td>\n",
       "      <td>-75.351975</td>\n",
       "      <td>HAWS AVE; NORRISTOWN; 2015-12-10 @ 14:39:21-St...</td>\n",
       "      <td>19401</td>\n",
       "      <td>Fire: GAS-ODOR/LEAK</td>\n",
       "      <td>2015-12-10 14:39:21</td>\n",
       "      <td>NORRISTOWN</td>\n",
       "      <td>HAWS AVE</td>\n",
       "      <td>Fire</td>\n",
       "      <td>GAS-ODOR/LEAK</td>\n",
       "      <td>14</td>\n",
       "      <td>10</td>\n",
       "      <td>3</td>\n",
       "      <td>Thu</td>\n",
       "      <td>12</td>\n",
       "      <td>2015</td>\n",
       "    </tr>\n",
       "    <tr>\n",
       "      <th>3</th>\n",
       "      <td>40.116153</td>\n",
       "      <td>-75.343513</td>\n",
       "      <td>AIRY ST &amp; SWEDE ST;  NORRISTOWN; Station 308A;...</td>\n",
       "      <td>19401</td>\n",
       "      <td>EMS: CARDIAC EMERGENCY</td>\n",
       "      <td>2015-12-10 16:47:36</td>\n",
       "      <td>NORRISTOWN</td>\n",
       "      <td>AIRY ST &amp; SWEDE ST</td>\n",
       "      <td>EMS</td>\n",
       "      <td>CARDIAC EMERGENCY</td>\n",
       "      <td>16</td>\n",
       "      <td>10</td>\n",
       "      <td>3</td>\n",
       "      <td>Thu</td>\n",
       "      <td>12</td>\n",
       "      <td>2015</td>\n",
       "    </tr>\n",
       "    <tr>\n",
       "      <th>4</th>\n",
       "      <td>40.251492</td>\n",
       "      <td>-75.603350</td>\n",
       "      <td>CHERRYWOOD CT &amp; DEAD END;  LOWER POTTSGROVE; S...</td>\n",
       "      <td>19464</td>\n",
       "      <td>EMS: DIZZINESS</td>\n",
       "      <td>2015-12-10 16:56:52</td>\n",
       "      <td>LOWER POTTSGROVE</td>\n",
       "      <td>CHERRYWOOD CT &amp; DEAD END</td>\n",
       "      <td>EMS</td>\n",
       "      <td>DIZZINESS</td>\n",
       "      <td>16</td>\n",
       "      <td>10</td>\n",
       "      <td>3</td>\n",
       "      <td>Thu</td>\n",
       "      <td>12</td>\n",
       "      <td>2015</td>\n",
       "    </tr>\n",
       "    <tr>\n",
       "      <th>...</th>\n",
       "      <td>...</td>\n",
       "      <td>...</td>\n",
       "      <td>...</td>\n",
       "      <td>...</td>\n",
       "      <td>...</td>\n",
       "      <td>...</td>\n",
       "      <td>...</td>\n",
       "      <td>...</td>\n",
       "      <td>...</td>\n",
       "      <td>...</td>\n",
       "      <td>...</td>\n",
       "      <td>...</td>\n",
       "      <td>...</td>\n",
       "      <td>...</td>\n",
       "      <td>...</td>\n",
       "      <td>...</td>\n",
       "    </tr>\n",
       "    <tr>\n",
       "      <th>663277</th>\n",
       "      <td>40.157956</td>\n",
       "      <td>-75.348060</td>\n",
       "      <td>SUNSET AVE &amp; WOODLAND AVE; EAST NORRITON; 2020...</td>\n",
       "      <td>19403</td>\n",
       "      <td>Traffic: VEHICLE ACCIDENT -</td>\n",
       "      <td>2020-07-29 15:46:51</td>\n",
       "      <td>EAST NORRITON</td>\n",
       "      <td>SUNSET AVE &amp; WOODLAND AVE</td>\n",
       "      <td>Traffic</td>\n",
       "      <td>VEHICLE ACCIDENT -</td>\n",
       "      <td>15</td>\n",
       "      <td>29</td>\n",
       "      <td>2</td>\n",
       "      <td>Wed</td>\n",
       "      <td>7</td>\n",
       "      <td>2020</td>\n",
       "    </tr>\n",
       "    <tr>\n",
       "      <th>663278</th>\n",
       "      <td>40.136306</td>\n",
       "      <td>-75.428697</td>\n",
       "      <td>EAGLEVILLE RD &amp; BUNTING CIR;  LOWER PROVIDENCE...</td>\n",
       "      <td>19403</td>\n",
       "      <td>EMS: GENERAL WEAKNESS</td>\n",
       "      <td>2020-07-29 15:52:19</td>\n",
       "      <td>LOWER PROVIDENCE</td>\n",
       "      <td>EAGLEVILLE RD &amp; BUNTING CIR</td>\n",
       "      <td>EMS</td>\n",
       "      <td>GENERAL WEAKNESS</td>\n",
       "      <td>15</td>\n",
       "      <td>29</td>\n",
       "      <td>2</td>\n",
       "      <td>Wed</td>\n",
       "      <td>7</td>\n",
       "      <td>2020</td>\n",
       "    </tr>\n",
       "    <tr>\n",
       "      <th>663279</th>\n",
       "      <td>40.013779</td>\n",
       "      <td>-75.300835</td>\n",
       "      <td>HAVERFORD STATION RD;  LOWER MERION; Station 3...</td>\n",
       "      <td>19010</td>\n",
       "      <td>EMS: VEHICLE ACCIDENT</td>\n",
       "      <td>2020-07-29 15:52:52</td>\n",
       "      <td>LOWER MERION</td>\n",
       "      <td>HAVERFORD STATION RD</td>\n",
       "      <td>EMS</td>\n",
       "      <td>VEHICLE ACCIDENT</td>\n",
       "      <td>15</td>\n",
       "      <td>29</td>\n",
       "      <td>2</td>\n",
       "      <td>Wed</td>\n",
       "      <td>7</td>\n",
       "      <td>2020</td>\n",
       "    </tr>\n",
       "    <tr>\n",
       "      <th>663280</th>\n",
       "      <td>40.121603</td>\n",
       "      <td>-75.351437</td>\n",
       "      <td>MARSHALL ST &amp; HAWS AVE; NORRISTOWN; 2020-07-29...</td>\n",
       "      <td>19401</td>\n",
       "      <td>Fire: BUILDING FIRE</td>\n",
       "      <td>2020-07-29 15:54:08</td>\n",
       "      <td>NORRISTOWN</td>\n",
       "      <td>MARSHALL ST &amp; HAWS AVE</td>\n",
       "      <td>Fire</td>\n",
       "      <td>BUILDING FIRE</td>\n",
       "      <td>15</td>\n",
       "      <td>29</td>\n",
       "      <td>2</td>\n",
       "      <td>Wed</td>\n",
       "      <td>7</td>\n",
       "      <td>2020</td>\n",
       "    </tr>\n",
       "    <tr>\n",
       "      <th>663281</th>\n",
       "      <td>40.015046</td>\n",
       "      <td>-75.299674</td>\n",
       "      <td>HAVERFORD STATION RD &amp; W MONTGOMERY AVE; LOWER...</td>\n",
       "      <td>19010</td>\n",
       "      <td>Traffic: VEHICLE ACCIDENT -</td>\n",
       "      <td>2020-07-29 15:52:46</td>\n",
       "      <td>LOWER MERION</td>\n",
       "      <td>HAVERFORD STATION RD &amp; W MONTGOMERY AVE</td>\n",
       "      <td>Traffic</td>\n",
       "      <td>VEHICLE ACCIDENT -</td>\n",
       "      <td>15</td>\n",
       "      <td>29</td>\n",
       "      <td>2</td>\n",
       "      <td>Wed</td>\n",
       "      <td>7</td>\n",
       "      <td>2020</td>\n",
       "    </tr>\n",
       "  </tbody>\n",
       "</table>\n",
       "<p>662989 rows × 16 columns</p>\n",
       "</div>"
      ],
      "text/plain": [
       "              lat        lng  \\\n",
       "0       40.297876 -75.581294   \n",
       "1       40.258061 -75.264680   \n",
       "2       40.121182 -75.351975   \n",
       "3       40.116153 -75.343513   \n",
       "4       40.251492 -75.603350   \n",
       "...           ...        ...   \n",
       "663277  40.157956 -75.348060   \n",
       "663278  40.136306 -75.428697   \n",
       "663279  40.013779 -75.300835   \n",
       "663280  40.121603 -75.351437   \n",
       "663281  40.015046 -75.299674   \n",
       "\n",
       "                                                     desc    zip  \\\n",
       "0       REINDEER CT & DEAD END;  NEW HANOVER; Station ...  19525   \n",
       "1       BRIAR PATH & WHITEMARSH LN;  HATFIELD TOWNSHIP...  19446   \n",
       "2       HAWS AVE; NORRISTOWN; 2015-12-10 @ 14:39:21-St...  19401   \n",
       "3       AIRY ST & SWEDE ST;  NORRISTOWN; Station 308A;...  19401   \n",
       "4       CHERRYWOOD CT & DEAD END;  LOWER POTTSGROVE; S...  19464   \n",
       "...                                                   ...    ...   \n",
       "663277  SUNSET AVE & WOODLAND AVE; EAST NORRITON; 2020...  19403   \n",
       "663278  EAGLEVILLE RD & BUNTING CIR;  LOWER PROVIDENCE...  19403   \n",
       "663279  HAVERFORD STATION RD;  LOWER MERION; Station 3...  19010   \n",
       "663280  MARSHALL ST & HAWS AVE; NORRISTOWN; 2020-07-29...  19401   \n",
       "663281  HAVERFORD STATION RD & W MONTGOMERY AVE; LOWER...  19010   \n",
       "\n",
       "                              title           timeStamp                twp  \\\n",
       "0            EMS: BACK PAINS/INJURY 2015-12-10 17:10:52        NEW HANOVER   \n",
       "1           EMS: DIABETIC EMERGENCY 2015-12-10 17:29:21  HATFIELD TOWNSHIP   \n",
       "2               Fire: GAS-ODOR/LEAK 2015-12-10 14:39:21         NORRISTOWN   \n",
       "3            EMS: CARDIAC EMERGENCY 2015-12-10 16:47:36         NORRISTOWN   \n",
       "4                    EMS: DIZZINESS 2015-12-10 16:56:52   LOWER POTTSGROVE   \n",
       "...                             ...                 ...                ...   \n",
       "663277  Traffic: VEHICLE ACCIDENT - 2020-07-29 15:46:51      EAST NORRITON   \n",
       "663278        EMS: GENERAL WEAKNESS 2020-07-29 15:52:19   LOWER PROVIDENCE   \n",
       "663279        EMS: VEHICLE ACCIDENT 2020-07-29 15:52:52       LOWER MERION   \n",
       "663280          Fire: BUILDING FIRE 2020-07-29 15:54:08         NORRISTOWN   \n",
       "663281  Traffic: VEHICLE ACCIDENT - 2020-07-29 15:52:46       LOWER MERION   \n",
       "\n",
       "                                           addr Department  \\\n",
       "0                        REINDEER CT & DEAD END        EMS   \n",
       "1                    BRIAR PATH & WHITEMARSH LN        EMS   \n",
       "2                                      HAWS AVE       Fire   \n",
       "3                            AIRY ST & SWEDE ST        EMS   \n",
       "4                      CHERRYWOOD CT & DEAD END        EMS   \n",
       "...                                         ...        ...   \n",
       "663277                SUNSET AVE & WOODLAND AVE    Traffic   \n",
       "663278              EAGLEVILLE RD & BUNTING CIR        EMS   \n",
       "663279                     HAVERFORD STATION RD        EMS   \n",
       "663280                   MARSHALL ST & HAWS AVE       Fire   \n",
       "663281  HAVERFORD STATION RD & W MONTGOMERY AVE    Traffic   \n",
       "\n",
       "                     Reason  Hour  Day  nDay_of_Week Day_of_Week  Month  Year  \n",
       "0         BACK PAINS/INJURY    17   10             3         Thu     12  2015  \n",
       "1        DIABETIC EMERGENCY    17   10             3         Thu     12  2015  \n",
       "2             GAS-ODOR/LEAK    14   10             3         Thu     12  2015  \n",
       "3         CARDIAC EMERGENCY    16   10             3         Thu     12  2015  \n",
       "4                 DIZZINESS    16   10             3         Thu     12  2015  \n",
       "...                     ...   ...  ...           ...         ...    ...   ...  \n",
       "663277   VEHICLE ACCIDENT -    15   29             2         Wed      7  2020  \n",
       "663278     GENERAL WEAKNESS    15   29             2         Wed      7  2020  \n",
       "663279     VEHICLE ACCIDENT    15   29             2         Wed      7  2020  \n",
       "663280        BUILDING FIRE    15   29             2         Wed      7  2020  \n",
       "663281   VEHICLE ACCIDENT -    15   29             2         Wed      7  2020  \n",
       "\n",
       "[662989 rows x 16 columns]"
      ]
     },
     "execution_count": 31,
     "metadata": {},
     "output_type": "execute_result"
    }
   ],
   "source": [
    "df"
   ]
  },
  {
   "cell_type": "markdown",
   "metadata": {},
   "source": [
    "### Exploratory Data Analysis\n",
    "#### Basic Questions"
   ]
  },
  {
   "cell_type": "code",
   "execution_count": 24,
   "metadata": {},
   "outputs": [
    {
     "data": {
      "text/html": [
       "<div>\n",
       "<style scoped>\n",
       "    .dataframe tbody tr th:only-of-type {\n",
       "        vertical-align: middle;\n",
       "    }\n",
       "\n",
       "    .dataframe tbody tr th {\n",
       "        vertical-align: top;\n",
       "    }\n",
       "\n",
       "    .dataframe thead th {\n",
       "        text-align: right;\n",
       "    }\n",
       "</style>\n",
       "<table border=\"1\" class=\"dataframe\">\n",
       "  <thead>\n",
       "    <tr style=\"text-align: right;\">\n",
       "      <th></th>\n",
       "      <th>lat</th>\n",
       "      <th>lng</th>\n",
       "      <th>Hour</th>\n",
       "      <th>Day</th>\n",
       "      <th>nDay_of_Week</th>\n",
       "      <th>Month</th>\n",
       "      <th>Year</th>\n",
       "    </tr>\n",
       "  </thead>\n",
       "  <tbody>\n",
       "    <tr>\n",
       "      <th>count</th>\n",
       "      <td>662989.000000</td>\n",
       "      <td>662989.000000</td>\n",
       "      <td>662989.000000</td>\n",
       "      <td>662989.000000</td>\n",
       "      <td>662989.000000</td>\n",
       "      <td>662989.000000</td>\n",
       "      <td>662989.000000</td>\n",
       "    </tr>\n",
       "    <tr>\n",
       "      <th>mean</th>\n",
       "      <td>40.158147</td>\n",
       "      <td>-75.300035</td>\n",
       "      <td>13.044411</td>\n",
       "      <td>15.650175</td>\n",
       "      <td>2.899891</td>\n",
       "      <td>6.334812</td>\n",
       "      <td>2017.765796</td>\n",
       "    </tr>\n",
       "    <tr>\n",
       "      <th>std</th>\n",
       "      <td>0.220673</td>\n",
       "      <td>1.673350</td>\n",
       "      <td>5.651348</td>\n",
       "      <td>8.772939</td>\n",
       "      <td>1.950565</td>\n",
       "      <td>3.475280</td>\n",
       "      <td>1.335122</td>\n",
       "    </tr>\n",
       "    <tr>\n",
       "      <th>min</th>\n",
       "      <td>0.000000</td>\n",
       "      <td>-119.698206</td>\n",
       "      <td>0.000000</td>\n",
       "      <td>1.000000</td>\n",
       "      <td>0.000000</td>\n",
       "      <td>1.000000</td>\n",
       "      <td>2015.000000</td>\n",
       "    </tr>\n",
       "    <tr>\n",
       "      <th>25%</th>\n",
       "      <td>40.100344</td>\n",
       "      <td>-75.392772</td>\n",
       "      <td>9.000000</td>\n",
       "      <td>8.000000</td>\n",
       "      <td>1.000000</td>\n",
       "      <td>3.000000</td>\n",
       "      <td>2017.000000</td>\n",
       "    </tr>\n",
       "    <tr>\n",
       "      <th>50%</th>\n",
       "      <td>40.143869</td>\n",
       "      <td>-75.305143</td>\n",
       "      <td>13.000000</td>\n",
       "      <td>16.000000</td>\n",
       "      <td>3.000000</td>\n",
       "      <td>6.000000</td>\n",
       "      <td>2018.000000</td>\n",
       "    </tr>\n",
       "    <tr>\n",
       "      <th>75%</th>\n",
       "      <td>40.229008</td>\n",
       "      <td>-75.211812</td>\n",
       "      <td>17.000000</td>\n",
       "      <td>23.000000</td>\n",
       "      <td>5.000000</td>\n",
       "      <td>9.000000</td>\n",
       "      <td>2019.000000</td>\n",
       "    </tr>\n",
       "    <tr>\n",
       "      <th>max</th>\n",
       "      <td>51.335390</td>\n",
       "      <td>87.854975</td>\n",
       "      <td>23.000000</td>\n",
       "      <td>31.000000</td>\n",
       "      <td>6.000000</td>\n",
       "      <td>12.000000</td>\n",
       "      <td>2020.000000</td>\n",
       "    </tr>\n",
       "  </tbody>\n",
       "</table>\n",
       "</div>"
      ],
      "text/plain": [
       "                 lat            lng           Hour            Day  \\\n",
       "count  662989.000000  662989.000000  662989.000000  662989.000000   \n",
       "mean       40.158147     -75.300035      13.044411      15.650175   \n",
       "std         0.220673       1.673350       5.651348       8.772939   \n",
       "min         0.000000    -119.698206       0.000000       1.000000   \n",
       "25%        40.100344     -75.392772       9.000000       8.000000   \n",
       "50%        40.143869     -75.305143      13.000000      16.000000   \n",
       "75%        40.229008     -75.211812      17.000000      23.000000   \n",
       "max        51.335390      87.854975      23.000000      31.000000   \n",
       "\n",
       "        nDay_of_Week          Month           Year  \n",
       "count  662989.000000  662989.000000  662989.000000  \n",
       "mean        2.899891       6.334812    2017.765796  \n",
       "std         1.950565       3.475280       1.335122  \n",
       "min         0.000000       1.000000    2015.000000  \n",
       "25%         1.000000       3.000000    2017.000000  \n",
       "50%         3.000000       6.000000    2018.000000  \n",
       "75%         5.000000       9.000000    2019.000000  \n",
       "max         6.000000      12.000000    2020.000000  "
      ]
     },
     "execution_count": 24,
     "metadata": {},
     "output_type": "execute_result"
    }
   ],
   "source": [
    "numerical_columns = ['lat', 'lng', 'Hour', 'Day', 'nDay_of_Week', 'Month', 'Year']\n",
    "numerical_summary = df[numerical_columns].describe()\n",
    "numerical_summary"
   ]
  },
  {
   "cell_type": "code",
   "execution_count": 27,
   "metadata": {},
   "outputs": [
    {
     "name": "stdout",
     "output_type": "stream",
     "text": [
      "Class balance for column 'desc':\n",
      "REINDEER CT & DEAD END;  NEW HANOVER; Station 332; 2015-12-10 @ 17:10:52;             0.000002\n",
      "BROOKE DR & JOSHUA DR;  LIMERICK; Station 325; 2019-01-01 @ 05:26:48;                 0.000002\n",
      "N LEWIS RD & KNIGHT DR; LIMERICK; 2019-01-01 @ 08:24:52;                              0.000002\n",
      "OLD DOUGLASS DR & MARYS LN;  BERKS COUNTY; Station EMS; 2019-01-01 @ 08:31:32;        0.000002\n",
      "MAIN ST & OLD SUMNEYTOWN PIKE; LOWER SALFORD; 2019-01-01 @ 08:32:45-Station:STA89;    0.000002\n",
      "                                                                                        ...   \n",
      "FLAT ROCK RD & HIDDEN RIVER RD; LOWER MERION; 2017-07-06 @ 17:58:58;                  0.000002\n",
      "HENDERSON RD & SHOEMAKER RD; UPPER MERION; 2017-07-06 @ 17:57:46;                     0.000002\n",
      "GULPH RD & W CHURCH RD; UPPER MERION; 2017-07-06 @ 17:57:04;                          0.000002\n",
      "SKIPPACK PIKE & WENTZ CHURCH RD; WORCESTER; 2017-07-06 @ 18:01:57;                    0.000002\n",
      "HAVERFORD STATION RD & W MONTGOMERY AVE; LOWER MERION; 2020-07-29 @ 15:52:46;         0.000002\n",
      "Name: desc, Length: 662989, dtype: float64\n",
      "\n",
      "Class balance for column 'title':\n",
      "Traffic: VEHICLE ACCIDENT -    0.223705\n",
      "Traffic: DISABLED VEHICLE -    0.072229\n",
      "Fire: FIRE ALARM               0.057787\n",
      "EMS: FALL VICTIM               0.052271\n",
      "EMS: RESPIRATORY EMERGENCY     0.051624\n",
      "                                 ...   \n",
      "EMS: DISABLED VEHICLE          0.000002\n",
      "Fire: PRISONER IN CUSTODY      0.000002\n",
      "Fire: GENERAL WEAKNESS         0.000002\n",
      "Fire: SUSPICIOUS               0.000002\n",
      "Fire: BARRICADED SUBJECT       0.000002\n",
      "Name: title, Length: 148, dtype: float64\n",
      "\n",
      "Class balance for column 'twp':\n",
      "LOWER MERION       0.083667\n",
      "ABINGTON           0.060223\n",
      "NORRISTOWN         0.056737\n",
      "UPPER MERION       0.054284\n",
      "CHELTENHAM         0.046085\n",
      "                     ...   \n",
      "EAST GREENVILLE    0.001985\n",
      "BRYN ATHYN         0.001891\n",
      "GREEN LANE         0.000581\n",
      "PHILA COUNTY       0.000403\n",
      "LEHIGH COUNTY      0.000287\n",
      "Name: twp, Length: 68, dtype: float64\n",
      "\n",
      "Class balance for column 'addr':\n",
      "SHANNONDELL DR & SHANNONDELL BLVD    0.010984\n",
      "MAIN ST & OLD SUMNEYTOWN PIKE        0.003884\n",
      "THE FAIRWAY  & RYDAL RD              0.002991\n",
      "EAGLEVILLE RD & SUNDERLAND DR        0.002440\n",
      "EVERGREEN RD & W LIGHTCAP RD         0.002400\n",
      "                                       ...   \n",
      "W BROAD ST & PENN AVE                0.000002\n",
      "SILVER BIRCH RD & SUNSET WAY         0.000002\n",
      "CAMBRONNE CIR & NORMANDY DR          0.000002\n",
      "ASHBOURNE RD & HAINES RD             0.000002\n",
      "IVY LN & WIDENER RD                  0.000002\n",
      "Name: addr, Length: 41249, dtype: float64\n",
      "\n",
      "Class balance for column 'Department':\n",
      "EMS        0.501334\n",
      "Traffic    0.347081\n",
      "Fire       0.151585\n",
      "Name: Department, dtype: float64\n",
      "\n",
      "Class balance for column 'Reason':\n",
      " VEHICLE ACCIDENT -     0.223705\n",
      " DISABLED VEHICLE -     0.072229\n",
      " FIRE ALARM             0.057962\n",
      " VEHICLE ACCIDENT       0.054717\n",
      " FALL VICTIM            0.052281\n",
      "                          ...   \n",
      " ROAD OBSTRUCTION       0.000003\n",
      " HIT + RUN              0.000002\n",
      " PRISONER IN CUSTODY    0.000002\n",
      " FOOT PATROL            0.000002\n",
      " ANIMAL COMPLAINT       0.000002\n",
      "Name: Reason, Length: 95, dtype: float64\n",
      "\n",
      "Class balance for column 'Day_of_Week':\n",
      "Fri    0.155138\n",
      "Wed    0.149444\n",
      "Thu    0.148729\n",
      "Tue    0.147218\n",
      "Mon    0.145830\n",
      "Sat    0.134793\n",
      "Sun    0.118847\n",
      "Name: Day_of_Week, dtype: float64\n",
      "\n"
     ]
    }
   ],
   "source": [
    "# Categorical columns in the DataFrame\n",
    "categorical_columns = ['desc', 'title', 'twp', 'addr', 'Department', 'Reason', 'Day_of_Week']\n",
    "\n",
    "# Calculate class balance for each categorical column\n",
    "for column in categorical_columns:\n",
    "    class_balance = df[column].value_counts(normalize=True)\n",
    "    print(f\"Class balance for column '{column}':\\n{class_balance}\\n\")"
   ]
  },
  {
   "cell_type": "code",
   "execution_count": null,
   "metadata": {},
   "outputs": [],
   "source": [
    "from tabulate import tabulate\n",
    "\n",
    "# Categorical columns in the DataFrame\n",
    "categorical_columns = ['desc', 'title', 'twp', 'addr', 'Department', 'Reason', 'Day_of_Week']\n",
    "\n",
    "# Create a list to store class balance results as tables\n",
    "class_balance_tables = []\n",
    "\n",
    "# Calculate class balance for each categorical column\n",
    "for column in categorical_columns:\n",
    "    class_balance = df[column].value_counts(normalize=True)\n",
    "    table = tabulate(class_balance.reset_index(), headers=[column, 'Class Balance'], tablefmt='grid')\n",
    "    class_balance_tables.append(table)\n",
    "\n",
    "# Print class balance tables\n",
    "for table in class_balance_tables:\n",
    "    print(table)\n",
    "    print(\"\\n\")\n"
   ]
  },
  {
   "cell_type": "code",
   "execution_count": 30,
   "metadata": {},
   "outputs": [
    {
     "name": "stdout",
     "output_type": "stream",
     "text": [
      "Class balance for column 'desc':\n",
      "REINDEER CT & DEAD END;  NEW HANOVER; Station 332; 2015-12-10 @ 17:10:52;             0.000002\n",
      "BROOKE DR & JOSHUA DR;  LIMERICK; Station 325; 2019-01-01 @ 05:26:48;                 0.000002\n",
      "N LEWIS RD & KNIGHT DR; LIMERICK; 2019-01-01 @ 08:24:52;                              0.000002\n",
      "OLD DOUGLASS DR & MARYS LN;  BERKS COUNTY; Station EMS; 2019-01-01 @ 08:31:32;        0.000002\n",
      "MAIN ST & OLD SUMNEYTOWN PIKE; LOWER SALFORD; 2019-01-01 @ 08:32:45-Station:STA89;    0.000002\n",
      "Name: desc, dtype: float64\n",
      "\n",
      "Class balance for column 'title':\n",
      "Traffic: VEHICLE ACCIDENT -    0.223705\n",
      "Traffic: DISABLED VEHICLE -    0.072229\n",
      "Fire: FIRE ALARM               0.057787\n",
      "EMS: FALL VICTIM               0.052271\n",
      "EMS: RESPIRATORY EMERGENCY     0.051624\n",
      "Name: title, dtype: float64\n",
      "\n",
      "Class balance for column 'twp':\n",
      "LOWER MERION    0.083667\n",
      "ABINGTON        0.060223\n",
      "NORRISTOWN      0.056737\n",
      "UPPER MERION    0.054284\n",
      "CHELTENHAM      0.046085\n",
      "Name: twp, dtype: float64\n",
      "\n",
      "Class balance for column 'addr':\n",
      "SHANNONDELL DR & SHANNONDELL BLVD    0.010984\n",
      "MAIN ST & OLD SUMNEYTOWN PIKE        0.003884\n",
      "THE FAIRWAY  & RYDAL RD              0.002991\n",
      "EAGLEVILLE RD & SUNDERLAND DR        0.002440\n",
      "EVERGREEN RD & W LIGHTCAP RD         0.002400\n",
      "Name: addr, dtype: float64\n",
      "\n",
      "Class balance for column 'Department':\n",
      "EMS        0.501334\n",
      "Traffic    0.347081\n",
      "Fire       0.151585\n",
      "Name: Department, dtype: float64\n",
      "\n",
      "Class balance for column 'Reason':\n",
      " VEHICLE ACCIDENT -    0.223705\n",
      " DISABLED VEHICLE -    0.072229\n",
      " FIRE ALARM            0.057962\n",
      " VEHICLE ACCIDENT      0.054717\n",
      " FALL VICTIM           0.052281\n",
      "Name: Reason, dtype: float64\n",
      "\n",
      "Class balance for column 'Day_of_Week':\n",
      "Fri    0.155138\n",
      "Wed    0.149444\n",
      "Thu    0.148729\n",
      "Tue    0.147218\n",
      "Mon    0.145830\n",
      "Name: Day_of_Week, dtype: float64\n",
      "\n"
     ]
    }
   ],
   "source": [
    "# Categorical columns in the DataFrame\n",
    "categorical_columns = ['desc', 'title', 'twp', 'addr', 'Department', 'Reason', 'Day_of_Week']\n",
    "\n",
    "# Calculate class balance for each categorical column\n",
    "for column in categorical_columns:\n",
    "    class_balance = df[column].value_counts(normalize=True).head(5)\n",
    "    print(f\"Class balance for column '{column}':\\n{class_balance}\\n\")\n"
   ]
  },
  {
   "cell_type": "code",
   "execution_count": null,
   "metadata": {},
   "outputs": [],
   "source": []
  },
  {
   "cell_type": "code",
   "execution_count": null,
   "metadata": {},
   "outputs": [],
   "source": []
  },
  {
   "cell_type": "code",
   "execution_count": null,
   "metadata": {},
   "outputs": [],
   "source": []
  },
  {
   "cell_type": "code",
   "execution_count": null,
   "metadata": {},
   "outputs": [],
   "source": []
  },
  {
   "cell_type": "code",
   "execution_count": null,
   "metadata": {},
   "outputs": [],
   "source": []
  },
  {
   "cell_type": "code",
   "execution_count": null,
   "metadata": {},
   "outputs": [],
   "source": []
  },
  {
   "cell_type": "code",
   "execution_count": null,
   "metadata": {},
   "outputs": [],
   "source": []
  },
  {
   "cell_type": "markdown",
   "metadata": {},
   "source": [
    "-------\n",
    "--------"
   ]
  },
  {
   "cell_type": "markdown",
   "metadata": {},
   "source": [
    "<details>\n",
    "  <summary><strong>Done By</strong></summary>\n",
    "  <p align=\"center\">Ahmed NasrElDin and Gehad Samir</p>\n",
    "</details>"
   ]
  },
  {
   "cell_type": "markdown",
   "metadata": {},
   "source": [
    "-------\n",
    "--------"
   ]
  }
 ],
 "metadata": {
  "kernelspec": {
   "display_name": "DS",
   "language": "python",
   "name": "python3"
  },
  "language_info": {
   "codemirror_mode": {
    "name": "ipython",
    "version": 3
   },
   "file_extension": ".py",
   "mimetype": "text/x-python",
   "name": "python",
   "nbconvert_exporter": "python",
   "pygments_lexer": "ipython3",
   "version": "3.11.3"
  },
  "vscode": {
   "interpreter": {
    "hash": "2f35561962b3536e798d9d7f8aed8a6570157df2537699a33c475af9309799d3"
   }
  }
 },
 "nbformat": 4,
 "nbformat_minor": 4
}
